{
 "cells": [
  {
   "cell_type": "code",
   "execution_count": 1,
   "id": "668beec7",
   "metadata": {},
   "outputs": [],
   "source": [
    "import pandas as pd"
   ]
  },
  {
   "cell_type": "code",
   "execution_count": 4,
   "id": "516bf5bc",
   "metadata": {},
   "outputs": [
    {
     "data": {
      "text/html": [
       "<div>\n",
       "<style scoped>\n",
       "    .dataframe tbody tr th:only-of-type {\n",
       "        vertical-align: middle;\n",
       "    }\n",
       "\n",
       "    .dataframe tbody tr th {\n",
       "        vertical-align: top;\n",
       "    }\n",
       "\n",
       "    .dataframe thead th {\n",
       "        text-align: right;\n",
       "    }\n",
       "</style>\n",
       "<table border=\"1\" class=\"dataframe\">\n",
       "  <thead>\n",
       "    <tr style=\"text-align: right;\">\n",
       "      <th></th>\n",
       "      <th>dateRep</th>\n",
       "      <th>day</th>\n",
       "      <th>month</th>\n",
       "      <th>year</th>\n",
       "      <th>cases</th>\n",
       "      <th>deaths</th>\n",
       "      <th>countriesAndTerritories</th>\n",
       "      <th>geoId</th>\n",
       "      <th>countryterritoryCode</th>\n",
       "      <th>popData2020</th>\n",
       "      <th>continentExp</th>\n",
       "    </tr>\n",
       "  </thead>\n",
       "  <tbody>\n",
       "    <tr>\n",
       "      <th>0</th>\n",
       "      <td>15/08/2022</td>\n",
       "      <td>15</td>\n",
       "      <td>8</td>\n",
       "      <td>2022</td>\n",
       "      <td>3968.0</td>\n",
       "      <td>1.0</td>\n",
       "      <td>Austria</td>\n",
       "      <td>AT</td>\n",
       "      <td>AUT</td>\n",
       "      <td>8901064</td>\n",
       "      <td>Europe</td>\n",
       "    </tr>\n",
       "    <tr>\n",
       "      <th>1</th>\n",
       "      <td>14/08/2022</td>\n",
       "      <td>14</td>\n",
       "      <td>8</td>\n",
       "      <td>2022</td>\n",
       "      <td>3058.0</td>\n",
       "      <td>2.0</td>\n",
       "      <td>Austria</td>\n",
       "      <td>AT</td>\n",
       "      <td>AUT</td>\n",
       "      <td>8901064</td>\n",
       "      <td>Europe</td>\n",
       "    </tr>\n",
       "    <tr>\n",
       "      <th>2</th>\n",
       "      <td>13/08/2022</td>\n",
       "      <td>13</td>\n",
       "      <td>8</td>\n",
       "      <td>2022</td>\n",
       "      <td>4995.0</td>\n",
       "      <td>1.0</td>\n",
       "      <td>Austria</td>\n",
       "      <td>AT</td>\n",
       "      <td>AUT</td>\n",
       "      <td>8901064</td>\n",
       "      <td>Europe</td>\n",
       "    </tr>\n",
       "    <tr>\n",
       "      <th>3</th>\n",
       "      <td>12/08/2022</td>\n",
       "      <td>12</td>\n",
       "      <td>8</td>\n",
       "      <td>2022</td>\n",
       "      <td>5706.0</td>\n",
       "      <td>4.0</td>\n",
       "      <td>Austria</td>\n",
       "      <td>AT</td>\n",
       "      <td>AUT</td>\n",
       "      <td>8901064</td>\n",
       "      <td>Europe</td>\n",
       "    </tr>\n",
       "    <tr>\n",
       "      <th>4</th>\n",
       "      <td>11/08/2022</td>\n",
       "      <td>11</td>\n",
       "      <td>8</td>\n",
       "      <td>2022</td>\n",
       "      <td>6009.0</td>\n",
       "      <td>7.0</td>\n",
       "      <td>Austria</td>\n",
       "      <td>AT</td>\n",
       "      <td>AUT</td>\n",
       "      <td>8901064</td>\n",
       "      <td>Europe</td>\n",
       "    </tr>\n",
       "  </tbody>\n",
       "</table>\n",
       "</div>"
      ],
      "text/plain": [
       "      dateRep  day  month  year   cases  deaths countriesAndTerritories geoId  \\\n",
       "0  15/08/2022   15      8  2022  3968.0     1.0                 Austria    AT   \n",
       "1  14/08/2022   14      8  2022  3058.0     2.0                 Austria    AT   \n",
       "2  13/08/2022   13      8  2022  4995.0     1.0                 Austria    AT   \n",
       "3  12/08/2022   12      8  2022  5706.0     4.0                 Austria    AT   \n",
       "4  11/08/2022   11      8  2022  6009.0     7.0                 Austria    AT   \n",
       "\n",
       "  countryterritoryCode  popData2020 continentExp  \n",
       "0                  AUT      8901064       Europe  \n",
       "1                  AUT      8901064       Europe  \n",
       "2                  AUT      8901064       Europe  \n",
       "3                  AUT      8901064       Europe  \n",
       "4                  AUT      8901064       Europe  "
      ]
     },
     "execution_count": 4,
     "metadata": {},
     "output_type": "execute_result"
    }
   ],
   "source": [
    "# 1. Create a DataFrame\n",
    "covid = \"covid_data.csv\"\n",
    "\n",
    "covid_df = pd.read_csv(covid)\n",
    "covid_df.head()"
   ]
  },
  {
   "cell_type": "code",
   "execution_count": 5,
   "id": "e8cfb2be",
   "metadata": {},
   "outputs": [
    {
     "data": {
      "text/plain": [
       "dateRep                     object\n",
       "day                          int64\n",
       "month                        int64\n",
       "year                         int64\n",
       "cases                      float64\n",
       "deaths                     float64\n",
       "countriesAndTerritories     object\n",
       "geoId                       object\n",
       "countryterritoryCode        object\n",
       "popData2020                  int64\n",
       "continentExp                object\n",
       "dtype: object"
      ]
     },
     "execution_count": 5,
     "metadata": {},
     "output_type": "execute_result"
    }
   ],
   "source": [
    "covid_df.dtypes"
   ]
  },
  {
   "cell_type": "code",
   "execution_count": null,
   "id": "113608ff",
   "metadata": {},
   "outputs": [],
   "source": []
  }
 ],
 "metadata": {
  "kernelspec": {
   "display_name": "Python 3 (ipykernel)",
   "language": "python",
   "name": "python3"
  },
  "language_info": {
   "codemirror_mode": {
    "name": "ipython",
    "version": 3
   },
   "file_extension": ".py",
   "mimetype": "text/x-python",
   "name": "python",
   "nbconvert_exporter": "python",
   "pygments_lexer": "ipython3",
   "version": "3.7.11"
  }
 },
 "nbformat": 4,
 "nbformat_minor": 5
}
